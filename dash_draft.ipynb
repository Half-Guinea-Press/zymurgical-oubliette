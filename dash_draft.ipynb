{
 "cells": [
  {
   "cell_type": "code",
   "execution_count": null,
   "id": "747e8067-2087-4807-93cb-c53a05cb396e",
   "metadata": {},
   "outputs": [],
   "source": [
    "import json\n",
    "import dash_bootstrap_components as dbc\n",
    "import numpy as np\n",
    "import pandas as pd\n",
    "import plotly.express as px\n",
    "import plotly.graph_objects as go\n",
    "from dash import Dash,Input,Output,State,callback,dash_table,dcc,html"
   ]
  },
  {
   "cell_type": "code",
   "execution_count": null,
   "id": "728c0985-5978-479b-b717-7b802423e31d",
   "metadata": {},
   "outputs": [],
   "source": [
    "# data\n",
    "\n",
    "app = Dash(__name__)\n",
    "\n",
    "main_page = html.Div(\n",
    "    [\n",
    "        dbc.NavBar(),\n",
    "        dbc.NavbarSimple(\n",
    "            children=[\n",
    "                dbc.NavItem(dbc.NavLink(\"Page 1\", href=\"#\")),\n",
    "                dbc.DropdownMenu(\n",
    "                    children=[\n",
    "                        dbc.DropdownMenuItem(\"More pages\", header=True),\n",
    "                        dbc.DropdownMenuItem(\"Page 2\", href=\"#\"),\n",
    "                        dbc.DropdownMenuItem(\"Page 3\", href=\"#\"),\n",
    "                    ],\n",
    "                    nav=True,\n",
    "                    in_navbar=True,\n",
    "                    label=\"More\",\n",
    "                ),\n",
    "            ],\n",
    "            brand=\"NavbarSimple\",\n",
    "            brand_href=\"#\",\n",
    "            color=\"primary\",\n",
    "            dark=True,\n",
    "        ),\n",
    "        dbc.Row(\n",
    "            [\n",
    "                dbc.Col([],width=2),\n",
    "                dbc.Col([],width=8),\n",
    "                dbc.Col([]width=2)\n",
    "            ]\n",
    "        ),\n",
    "        dbc.Row()\n",
    "    ]\n",
    ")"
   ]
  },
  {
   "cell_type": "code",
   "execution_count": null,
   "id": "ec9cb395-57b7-44da-aa29-46b36c2fbbb7",
   "metadata": {},
   "outputs": [],
   "source": [
    "app.layout = main_page\n",
    "\n",
    "if __name__ == '__main__':\n",
    "    app.run_server(debug=True, jupyter_mode=\"tab\""
   ]
  }
 ],
 "metadata": {
  "kernelspec": {
   "display_name": "Python 3 (ipykernel)",
   "language": "python",
   "name": "python3"
  },
  "language_info": {
   "codemirror_mode": {
    "name": "ipython",
    "version": 3
   },
   "file_extension": ".py",
   "mimetype": "text/x-python",
   "name": "python",
   "nbconvert_exporter": "python",
   "pygments_lexer": "ipython3",
   "version": "3.10.14"
  }
 },
 "nbformat": 4,
 "nbformat_minor": 5
}
